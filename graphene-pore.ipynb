{
 "cells": [
  {
   "cell_type": "markdown",
   "metadata": {},
   "source": [
    "## TRUE Graphene Pore Workflow\n",
    "\n",
    "### Background\n",
    "Graphene is a suitable material for electrodes due to their high specific surface area (SSA).  Often, the interactions between graphene pores and fluid molecules are studied with MD simulations through the use of slit pore models.  The goal of this notebook is to highlight how we can simulate a graphene slit pore system in a transparent, reproducible, extensible, and usable by others (TRUE) manner.\n",
    "\n",
    "### Simulation Workflow\n",
    "- Initialize system with mBuild with the use of `MOL2` files and the `Pore-Builder` package\n",
    "- Parametrize system with Foyer\n",
    "- Energy minimization, NVT equilibration, and NVT sampling with GROMACS 2018.5\n",
    "- Data analysis and visualization with MDTraj and Matplotlib"
   ]
  },
  {
   "cell_type": "markdown",
   "metadata": {},
   "source": [
    "#### Import packages"
   ]
  },
  {
   "cell_type": "code",
   "execution_count": 1,
   "metadata": {},
   "outputs": [
    {
     "name": "stderr",
     "output_type": "stream",
     "text": [
      "Illegal line #1\n",
      "\t\" matplotlib 2.x\n",
      "\"\n",
      "\tin file \"/Users/raymatsumoto/science/true_workflows/true_graphene/matplotlibrc\"\n"
     ]
    }
   ],
   "source": [
    "import mbuild as mb\n",
    "import matplotlib.pyplot as plt\n",
    "import numpy as np\n",
    "import mdtraj as md\n",
    "from foyer import Forcefield\n",
    "from calc_numberdensity import calc_number_density"
   ]
  },
  {
   "cell_type": "markdown",
   "metadata": {},
   "source": [
    "#### Load in the water molecule and ions as mBuild Compounds"
   ]
  },
  {
   "cell_type": "code",
   "execution_count": null,
   "metadata": {},
   "outputs": [],
   "source": [
    "water = mb.load('files/tip3p.mol2')\n",
    "water.name = 'SOL'\n",
    "\n",
    "na = mb.load('files/na.mol2')\n",
    "na.name = 'Na'\n",
    "cl = mb.load('files/cl.mol2')\n",
    "cl.name = 'Cl'"
   ]
  },
  {
   "cell_type": "markdown",
   "metadata": {},
   "source": [
    "#### Load in a separate `Forcefield` object for the graphene, water, and ions"
   ]
  },
  {
   "cell_type": "code",
   "execution_count": null,
   "metadata": {},
   "outputs": [],
   "source": [
    "c_ff = Forcefield('files/carbon.xml')\n",
    "spce = Forcefield('files/spce.xml')\n",
    "jc = Forcefield('files/jc_spce.xml')"
   ]
  },
  {
   "cell_type": "markdown",
   "metadata": {},
   "source": [
    "#### Importing Graphene Pores\n",
    "To run this notebook, you will have to clone the pore-builder repository from GitHub: https://github.com/rmatsum836/Pore-Builder"
   ]
  },
  {
   "cell_type": "code",
   "execution_count": null,
   "metadata": {},
   "outputs": [],
   "source": [
    "try:\n",
    "    GraphenePoreSolvent = mb.recipes.GraphenePoreSolvent\n",
    "except (ImportError, AttributeError):\n",
    "    try:\n",
    "        import porebuilder\n",
    "        GraphenePoreSolvent = porebuilder.porebuilder.GraphenePoreSolvent\n",
    "    except ImportError:\n",
    "        pass"
   ]
  },
  {
   "cell_type": "markdown",
   "metadata": {},
   "source": [
    "#### Initialize system\n",
    "Here we call `GraphenePoreSolvent` to initialize a system with two graphene slit pores, 600 water molecules, and 200 ions"
   ]
  },
  {
   "cell_type": "code",
   "execution_count": null,
   "metadata": {},
   "outputs": [],
   "source": [
    "system = GraphenePoreSolvent(pore_depth=5,\n",
    "                             side_dim=4,\n",
    "                             n_sheets=3,\n",
    "                             pore_width=1.5,\n",
    "                             x_bulk=6,\n",
    "                             solvent=[water,na,cl],\n",
    "                             n_solvent=[5200,400,400])\n",
    "\n",
    "box = mb.Box(system.periodicity)"
   ]
  },
  {
   "cell_type": "markdown",
   "metadata": {},
   "source": [
    "#### Separate molecules into different compounds\n",
    "Because we are going to apply multiple force fields, we need to separate the waters and graphene into separate mBuild compounds.  Calling `apply` will apply the forcefield to the compounds and convert them to parametrized ParmEd `Structures`"
   ]
  },
  {
   "cell_type": "code",
   "execution_count": null,
   "metadata": {},
   "outputs": [],
   "source": [
    "water = mb.Compound()\n",
    "ions = mb.Compound()\n",
    "graphene = mb.Compound()\n",
    "for child in system.children:\n",
    "    if child.name == 'SOL':\n",
    "        water.add(mb.clone(child))\n",
    "    elif child.name in ['Na', 'Cl']:\n",
    "        ions.add(mb.clone(child))\n",
    "    else:\n",
    "        graphene.add(mb.clone(child))\n",
    "\n",
    "water_pmd = spce.apply(water, residues='SOL')      \n",
    "ions_pmd = jc.apply(ions, residues=['Na', 'Cl'])\n",
    "pore_pmd = c_ff.apply(graphene)"
   ]
  },
  {
   "cell_type": "markdown",
   "metadata": {},
   "source": [
    "#### Now we will combine the two paramterezed ParmEd structures and save them as `gro` and `top` files"
   ]
  },
  {
   "cell_type": "code",
   "execution_count": null,
   "metadata": {},
   "outputs": [],
   "source": [
    "system = water_pmd + pore_pmd + ions_pmd\n",
    "system.box[:3] = box.maxs * 10.0\n",
    "system.save('init.gro', overwrite=True, combine='all')\n",
    "system.save('init.top', overwrite=True, combine='all')"
   ]
  },
  {
   "cell_type": "markdown",
   "metadata": {},
   "source": [
    "#### Once our system is saved, we start by running energy minimization in GROMACS\n",
    "We will first call `gmx grompp` to compile the input file for the simulation, and then call `gmx mdrun` to actually run the simulation."
   ]
  },
  {
   "cell_type": "code",
   "execution_count": null,
   "metadata": {},
   "outputs": [],
   "source": [
    "!gmx grompp -f files/em.mdp -c init.gro -p init.top -o em.tpr\n",
    "!gmx mdrun -v -deffnm em"
   ]
  },
  {
   "cell_type": "markdown",
   "metadata": {},
   "source": [
    "#### Next we create a separate group for fluids using `gmx make_ndx`"
   ]
  },
  {
   "cell_type": "code",
   "execution_count": null,
   "metadata": {},
   "outputs": [],
   "source": [
    "!(echo q && echo 12) | gmx make_ndx -f init.gro -o index.ndx"
   ]
  },
  {
   "cell_type": "markdown",
   "metadata": {},
   "source": [
    "#### Next we run a short NVT equilibration of our system\n",
    "We will first call `gmx grompp` to compile the input file for the simulation, and then call `gmx mdrun` to actually run the simulation."
   ]
  },
  {
   "cell_type": "code",
   "execution_count": null,
   "metadata": {},
   "outputs": [],
   "source": [
    "!gmx grompp -f files/nvt.mdp -c em.gro -p init.top -n index.ndx -o nvt.tpr\n",
    "!gmx mdrun -v -deffnm nvt"
   ]
  },
  {
   "cell_type": "markdown",
   "metadata": {},
   "source": [
    "#### Next we will sample our system\n",
    "We will first call `gmx grompp` to compile the input file for the simulation, and then call `gmx mdrun` to actually run the simulation."
   ]
  },
  {
   "cell_type": "code",
   "execution_count": null,
   "metadata": {},
   "outputs": [],
   "source": [
    "!gmx grompp -f files/sample.mdp -c nvt.gro -p init.top -n index.ndx -o sample.tpr\n",
    "!gmx mdrun -v -deffnm sample"
   ]
  },
  {
   "cell_type": "markdown",
   "metadata": {},
   "source": [
    "#### Load in reference data to compare to"
   ]
  },
  {
   "cell_type": "code",
   "execution_count": 2,
   "metadata": {},
   "outputs": [],
   "source": [
    "reference = np.loadtxt('ref_data/numden.txt')"
   ]
  },
  {
   "cell_type": "markdown",
   "metadata": {},
   "source": [
    "#### Set dimensions of system for calculation of number density profiles"
   ]
  },
  {
   "cell_type": "code",
   "execution_count": 3,
   "metadata": {},
   "outputs": [],
   "source": [
    "box_range = [.838, 2.337] # Position of Graphene in the z-direction of system\n",
    "mins = [6.61, 0, 0] # Minimum x coordinates of graphene sheets\n",
    "maxs = [10.8501, 0, 0] # Maximum x coordinates of graphene sheets\n",
    "area = 5.53 # Area in y and z directions"
   ]
  },
  {
   "cell_type": "markdown",
   "metadata": {},
   "source": [
    "#### Plotting Number density\n",
    "Using `calc_number_density` we can calculate and plot the number density profile of water in the slit pores."
   ]
  },
  {
   "cell_type": "code",
   "execution_count": 5,
   "metadata": {},
   "outputs": [
    {
     "data": {
      "image/png": "[encoded data removed]",
      "text/plain": [
       "<Figure size 432x288 with 1 Axes>"
      ]
     },
     "metadata": {
      "needs_background": "light"
     },
     "output_type": "display_data"
    }
   ],
   "source": [
    "plt.figure()\n",
    "plt.xlim(box_range[0], box_range[1])\n",
    "\n",
    "# Load in files for MDTraj\n",
    "gro_file = 'sample.gro'\n",
    "trj_file = 'sample.trr'\n",
    "top_file = 'init.top'\n",
    "\n",
    "rho, bins, residues = calc_number_density(gro_file, trj_file, top_file, area, dim=1,\n",
    "                                    box_range=box_range, n_bins=100, frame_range=range(0,51),\n",
    "                                    maxs=maxs, mins=mins)\n",
    "for res in range(3):\n",
    "    plt.plot(bins, rho[res], label='{}: Frames {}-{}'.format(residues[res],0,51))\n",
    "    plt.plot(reference[:,0], reference[:,res+1], label='Reference {}'.format(residues[res]))\n",
    "plt.legend()\n",
    "plt.ylabel(r'Number density ($nm^{-3}$)')\n",
    "plt.xlabel('Position in slit pore (nm)')\n",
    "plt.savefig('number-density.pdf')"
   ]
  },
  {
   "cell_type": "code",
   "execution_count": null,
   "metadata": {},
   "outputs": [],
   "source": [
    "np.savetxt('ref_data/numden.txt',\n",
    "                   np.transpose(np.vstack([bins, rho[0], rho[1], rho[2]])),\n",
    "                   header='Position in slit pore(nm)\\tCl\\tHOH\\tNa')"
   ]
  },
  {
   "cell_type": "markdown",
   "metadata": {},
   "source": [
    "#### Results\n",
    "From the results, we observe that the waters mainly exist at the walls of the slit pore at ~1.2 nm and ~2.0 nm respectively.  We also observe that some waters exist around the middle of the pore around ~1.4 nm and ~1.8 nm.  The ions in the pore don't appear to have any distinct ordering.  If the graphene was positively or negatively charged, we would expect different structure behavior of the ions."
   ]
  },
  {
   "cell_type": "markdown",
   "metadata": {},
   "source": [
    "#### Conclusions\n",
    "Here we have demonstrated a TRUE simulation through the use of MoSDeF, GROMACS, and MDTraj.  Using mBuild and the `Graphene-Pore` mBuild recipe, the way in which this system is transparent, reproducible, and usable by others.  That is, a user can install these repositories and build this graphene system the same exact way that was done here.  The parametrization method is also transparent and reproducible, as the force field paramters are all contained within XML files that can be viewed by the user.  \n",
    "\n",
    "Last but not least, this simulation workflow is easily extensible by others.  For example, system parameters such as pore width, water composition, and temperature can easily be changed to run similar simulations for comparison."
   ]
  }
 ],
 "metadata": {
  "kernelspec": {
   "display_name": "Python 3",
   "language": "python",
   "name": "python3"
  },
  "language_info": {
   "codemirror_mode": {
    "name": "ipython",
    "version": 3
   },
   "file_extension": ".py",
   "mimetype": "text/x-python",
   "name": "python",
   "nbconvert_exporter": "python",
   "pygments_lexer": "ipython3",
   "version": "3.6.8"
  }
 },
 "nbformat": 4,
 "nbformat_minor": 2
}
